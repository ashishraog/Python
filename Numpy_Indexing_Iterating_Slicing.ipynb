{
 "cells": [
  {
   "cell_type": "code",
   "execution_count": 1,
   "metadata": {},
   "outputs": [
    {
     "name": "stdout",
     "output_type": "stream",
     "text": [
      "\n",
      " A sequential array with a negative step: \n",
      " [10  8  6  4  2]\n",
      "\n",
      " Elements at these indices are:\n",
      " [4 8 6]\n",
      "\n",
      " Elements are : \n",
      " [2 4 7]\n"
     ]
    }
   ],
   "source": [
    "#Indexing using numpy\n",
    "import numpy as np\n",
    "#1\n",
    "a=np.arange(10,1,-2)\n",
    "print(\"\\n A sequential array with a negative step: \\n\",a)\n",
    " \n",
    "# Indexes are specified inside the np.array method.\n",
    "newarr = a[np.array([3, 1, 2 ])]\n",
    "print(\"\\n Elements at these indices are:\\n\",newarr)\n",
    "\n",
    "#2\n",
    "x = np.array([1, 2, 3, 4, 5, 6, 7, 8, 9])\n",
    "arr = x[np.array([1, 3, -3])] # Index values can be negative.\n",
    "print(\"\\n Elements are : \\n\",arr)"
   ]
  },
  {
   "cell_type": "code",
   "execution_count": 3,
   "metadata": {},
   "outputs": [
    {
     "name": "stdout",
     "output_type": "stream",
     "text": [
      "\n",
      " Array is:\n",
      "  [ 0  1  2  3  4  5  6  7  8  9 10 11 12 13 14 15 16 17 18 19]\n",
      "\n",
      " a[-8:17:1]  =  [12 13 14 15 16]\n",
      "\n",
      " a[10:]  =  [10 11 12 13 14 15 16 17 18 19]\n"
     ]
    }
   ],
   "source": [
    "#Slicing a slice object is of the form start:stop:step\n",
    "import numpy as np\n",
    " \n",
    "a = np.arange(20) # Arrange elements from 0 to 19\n",
    "print(\"\\n Array is:\\n \",a)\n",
    "\n",
    "print(\"\\n a[-8:17:1]  = \",a[-8:17:1]) # a[start:stop:step]\n",
    " \n",
    "# The : operator means all elements till the end.\n",
    "print(\"\\n a[10:]  = \",a[10:])"
   ]
  },
  {
   "cell_type": "code",
   "execution_count": 4,
   "metadata": {},
   "outputs": [
    {
     "ename": "SyntaxError",
     "evalue": "invalid syntax (<ipython-input-4-ab51d90ffa51>, line 11)",
     "output_type": "error",
     "traceback": [
      "\u001b[1;36m  File \u001b[1;32m\"<ipython-input-4-ab51d90ffa51>\"\u001b[1;36m, line \u001b[1;32m11\u001b[0m\n\u001b[1;33m    print(\"\\n Array is:\\n \",a)\u001b[0m\n\u001b[1;37m        ^\u001b[0m\n\u001b[1;31mSyntaxError\u001b[0m\u001b[1;31m:\u001b[0m invalid syntax\n"
     ]
    }
   ],
   "source": [
    "#ERROR\n",
    "#Slicing\n",
    "# A 3-Dimensional array\n",
    "import numpy as np\n",
    "a = np.array([[0, 1, 2, 3, 4, 5]\n",
    "              [6, 7, 8, 9, 10, 11]\n",
    "              [12, 13, 14, 15, 16, 17]\n",
    "              [18, 19, 20, 21, 22, 23]\n",
    "              [24, 25, 26, 27, 28, 29]\n",
    "              [30, 31, 32, 33, 34, 35]]\n",
    "print(\"\\n Array is:\\n \",a)\n",
    " \n",
    "# slicing and indexing\n",
    "print(\"\\n a[0, 3:5]  = \",a[0, 3:5]) \n",
    " \n",
    "print(\"\\n a[4:, 4:]  = \",a[4:, 4:]) \n",
    " \n",
    "print(\"\\n a[:, 2]  = \",a[:, 2]) \n",
    " \n",
    "print(\"\\n a[2:;2, ::2]  = \",a[2:;2, ::2]) "
   ]
  },
  {
   "cell_type": "code",
   "execution_count": 5,
   "metadata": {},
   "outputs": [
    {
     "name": "stdout",
     "output_type": "stream",
     "text": [
      "[1 3 6]\n",
      "[[6 7 8]]\n",
      "[[4 5]\n",
      " [7 8]]\n"
     ]
    }
   ],
   "source": [
    "#Advanced Indexing and slicing\n",
    "#purely integer indexing\n",
    "import numpy as np\n",
    " \n",
    "#Here,Index of elements are (0,0),(1,0),(2,1) and the corresponding\n",
    "#elemensts are selected\n",
    "#1\n",
    "a = np.array([[1 ,2 ],[3 ,4 ],[5 ,6 ]])\n",
    "print(a[[0 ,1 ,2 ],[0 ,0 ,1]])\n",
    "\n",
    "#2\n",
    "b = np.array([[0 ,1 ,2],[3 ,4 ,5 ],\n",
    "              [6 ,7 ,8],[9 ,10 ,11]])\n",
    " \n",
    "print(b[2:3,0:3 ]) #1st slect tuple,2nd slect range from that tuple\n",
    "print(b[1:3 ,[1,2]])"
   ]
  },
  {
   "cell_type": "code",
   "execution_count": 6,
   "metadata": {},
   "outputs": [
    {
     "name": "stdout",
     "output_type": "stream",
     "text": [
      "#1\n",
      "[ 80 100]\n",
      "#2\n",
      "[1600 6400]\n",
      "#3\n",
      "[[ 5  5]\n",
      " [16  4]]\n"
     ]
    }
   ],
   "source": [
    "#Boolean array indexing\n",
    "import numpy as np\n",
    "#1\n",
    "print(\"#1\")\n",
    "a = np.array([10, 40, 80, 50, 100])\n",
    "print(a[a>50]) #to select no greater than 50\n",
    "\n",
    "print(\"#2\")\n",
    "a = np.array([10, 40, 80, 50, 100])\n",
    "print(a[a%40==0]**2) #square multiples of 40\n",
    "\n",
    "print(\"#3\")\n",
    "b = np.array([[5, 5],[4, 5],[16, 4]])\n",
    "sumrow = b.sum(-1)\n",
    "print(b[sumrow%10==0])\n"
   ]
  },
  {
   "cell_type": "code",
   "execution_count": 7,
   "metadata": {},
   "outputs": [
    {
     "name": "stdout",
     "output_type": "stream",
     "text": [
      "Original array is: [ 0  1  2  3  4  5  6  7  8  9 10 11]\n",
      "\n",
      "New array is: [[ 0  1  2  3]\n",
      " [ 4  5  6  7]\n",
      " [ 8  9 10 11]]\n",
      "\n",
      "Modified array in C-style order:\n",
      "0\n",
      "1\n",
      "2\n",
      "3\n",
      "4\n",
      "5\n",
      "6\n",
      "7\n",
      "8\n",
      "9\n",
      "10\n",
      "11\n",
      "\n",
      "Modified array in F-style order:\n",
      "0\n",
      "4\n",
      "8\n",
      "1\n",
      "5\n",
      "9\n",
      "2\n",
      "6\n",
      "10\n",
      "3\n",
      "7\n",
      "11\n"
     ]
    }
   ],
   "source": [
    "#iterating over array\n",
    "#particular order\n",
    "import numpy as geek \n",
    "\n",
    "a = geek.arange(12) \n",
    "print('Original array is:',a) \n",
    "print()  \n",
    "a = a.reshape(3,4) # shape array with 3 rows and 4 columns\n",
    "print('New array is:',a) \n",
    "print()  \n",
    " \n",
    "print('Modified array in C-style order:')\n",
    "for x in geek.nditer(a, order = 'C'): # iterating an array in a given order\n",
    "    print(x)\n",
    "print()\n",
    "\n",
    "print('Modified array in F-style order:')  \n",
    "for x in geek.nditer(a, order = 'F'): \n",
    "    print(x)"
   ]
  },
  {
   "cell_type": "code",
   "execution_count": null,
   "metadata": {},
   "outputs": [],
   "source": []
  }
 ],
 "metadata": {
  "kernelspec": {
   "display_name": "Python 3",
   "language": "python",
   "name": "python3"
  },
  "language_info": {
   "codemirror_mode": {
    "name": "ipython",
    "version": 3
   },
   "file_extension": ".py",
   "mimetype": "text/x-python",
   "name": "python",
   "nbconvert_exporter": "python",
   "pygments_lexer": "ipython3",
   "version": "3.7.4"
  }
 },
 "nbformat": 4,
 "nbformat_minor": 2
}
