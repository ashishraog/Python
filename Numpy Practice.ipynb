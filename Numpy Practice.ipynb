{
 "cells": [
  {
   "cell_type": "code",
   "execution_count": 17,
   "metadata": {},
   "outputs": [
    {
     "name": "stdout",
     "output_type": "stream",
     "text": [
      "Array with rank 1: \n",
      " [1 2 3]\n",
      "Array with rank 2: \n",
      " [[1 2 3]\n",
      " [4 5 6]]\n",
      "Array is of type:  <class 'numpy.ndarray'>\n",
      "No. of dimensions:  2\n",
      "Shape of array:  (2, 3)\n",
      "Size of array:  6\n",
      "Array stores elements of type:  int32\n",
      "\n",
      "An array initialized with all 6s.Array type is complex:\n",
      " [[6.+0.j 6.+0.j 6.+0.j]\n",
      " [6.+0.j 6.+0.j 6.+0.j]\n",
      " [6.+0.j 6.+0.j 6.+0.j]]\n",
      "Array created using tuple: \n",
      " [1 2 3]\n"
     ]
    }
   ],
   "source": [
    "#1 Creation of arrays\n",
    "import numpy as np\n",
    "\n",
    "arr=np.array([1,2,3])\n",
    "print(\"Array with rank 1: \\n\",arr)\n",
    "\n",
    "#n-dimensional array\n",
    "arr=np.array([[1,2,3],\n",
    "              [4,5,6]])\n",
    "print(\"Array with rank 2: \\n\",arr)\n",
    "print(\"Array is of type: \", type(arr))\n",
    "print(\"No. of dimensions: \", arr.ndim)\n",
    "print(\"Shape of array: \", arr.shape)\n",
    "print(\"Size of array: \", arr.size)\n",
    "print(\"Array stores elements of type: \", arr.dtype)\n",
    "\n",
    "#Constant value array of complex type\n",
    "d = np.full((3, 3), 6, dtype = 'complex') #{(m*n), value, datatype}\n",
    "print (\"\\nAn array initialized with all 6s.\"\n",
    "            \"Array type is complex:\\n\", d)\n",
    "\n",
    "#using tuple\n",
    "arr=np.array((1,2,3))\n",
    "print(\"Array created using tuple: \\n\",arr)\n"
   ]
  },
  {
   "cell_type": "code",
   "execution_count": 8,
   "metadata": {},
   "outputs": [
    {
     "name": "stdout",
     "output_type": "stream",
     "text": [
      "Initial Array: \n",
      " [[-1.   2.   0.   4. ]\n",
      " [ 4.  -0.5  6.   0. ]\n",
      " [ 2.6  0.   7.   8. ]\n",
      " [ 3.  -7.   4.   2. ]]\n",
      "Array with first 2 rows and alternate columns(0 and 2): \n",
      " [[-1.  0.]\n",
      " [ 4.  6.]]\n",
      "\n",
      "Elements at indices (1, 3), (1, 2), (0, 1), (3, 0):\n",
      " [6.  0.  2.  2.6]\n"
     ]
    }
   ],
   "source": [
    "arr = np.array([[-1, 2, 0, 4],\n",
    "                [4, -0.5, 6, 0],\n",
    "                [2.6, 0, 7, 8],\n",
    "                [3, -7, 4, 2.0]])\n",
    "print(\"Initial Array: \\n\",arr)\n",
    "sliced_arr=arr[:2, ::2]\n",
    "print(\"Array with first 2 rows and alternate columns(0 and 2): \\n\",sliced_arr)\n",
    "index_arr=arr[[1,1,0,2],\n",
    "             [2,3,1,0]]\n",
    "#doubt on this topic\n",
    "print (\"\\nElements at indices (1, 3), \" \"(1, 2), (0, 1), (3, 0):\\n\", index_arr)"
   ]
  },
  {
   "cell_type": "code",
   "execution_count": 20,
   "metadata": {},
   "outputs": [
    {
     "name": "stdout",
     "output_type": "stream",
     "text": [
      "Adding 1 to every element: [2 3 4]\n",
      "\n",
      "Sum of all array elements:  6\n",
      "\n",
      "Array sum:\n",
      " [2 4 6]\n",
      "\n",
      "Elements greater than 0:\n",
      " [1 2 3]\n",
      "Largest element is: 3\n"
     ]
    },
    {
     "ename": "AxisError",
     "evalue": "axis 1 is out of bounds for array of dimension 1",
     "output_type": "error",
     "traceback": [
      "\u001b[1;31m---------------------------------------------------------------------------\u001b[0m",
      "\u001b[1;31mAxisError\u001b[0m                                 Traceback (most recent call last)",
      "\u001b[1;32m<ipython-input-20-e86f9fb00580>\u001b[0m in \u001b[0;36m<module>\u001b[1;34m\u001b[0m\n\u001b[0;32m     11\u001b[0m \u001b[1;31m# maximum element of array\u001b[0m\u001b[1;33m\u001b[0m\u001b[1;33m\u001b[0m\u001b[1;33m\u001b[0m\u001b[0m\n\u001b[0;32m     12\u001b[0m \u001b[0mprint\u001b[0m \u001b[1;33m(\u001b[0m\u001b[1;34m\"Largest element is:\"\u001b[0m\u001b[1;33m,\u001b[0m \u001b[0marr\u001b[0m\u001b[1;33m.\u001b[0m\u001b[0mmax\u001b[0m\u001b[1;33m(\u001b[0m\u001b[1;33m)\u001b[0m\u001b[1;33m)\u001b[0m\u001b[1;33m\u001b[0m\u001b[1;33m\u001b[0m\u001b[0m\n\u001b[1;32m---> 13\u001b[1;33m \u001b[0mprint\u001b[0m \u001b[1;33m(\u001b[0m\u001b[1;34m\"Row-wise maximum elements:\"\u001b[0m\u001b[1;33m,\u001b[0m\u001b[0marr\u001b[0m\u001b[1;33m.\u001b[0m\u001b[0mmax\u001b[0m\u001b[1;33m(\u001b[0m\u001b[0maxis\u001b[0m \u001b[1;33m=\u001b[0m \u001b[1;36m1\u001b[0m\u001b[1;33m)\u001b[0m\u001b[1;33m)\u001b[0m\u001b[1;33m\u001b[0m\u001b[1;33m\u001b[0m\u001b[0m\n\u001b[0m\u001b[0;32m     14\u001b[0m \u001b[1;33m\u001b[0m\u001b[0m\n\u001b[0;32m     15\u001b[0m \u001b[1;31m# minimum element of array\u001b[0m\u001b[1;33m\u001b[0m\u001b[1;33m\u001b[0m\u001b[1;33m\u001b[0m\u001b[0m\n",
      "\u001b[1;32m~\\AppData\\Local\\Continuum\\anaconda3\\lib\\site-packages\\numpy\\core\\_methods.py\u001b[0m in \u001b[0;36m_amax\u001b[1;34m(a, axis, out, keepdims, initial)\u001b[0m\n\u001b[0;32m     26\u001b[0m def _amax(a, axis=None, out=None, keepdims=False,\n\u001b[0;32m     27\u001b[0m           initial=_NoValue):\n\u001b[1;32m---> 28\u001b[1;33m     \u001b[1;32mreturn\u001b[0m \u001b[0mumr_maximum\u001b[0m\u001b[1;33m(\u001b[0m\u001b[0ma\u001b[0m\u001b[1;33m,\u001b[0m \u001b[0maxis\u001b[0m\u001b[1;33m,\u001b[0m \u001b[1;32mNone\u001b[0m\u001b[1;33m,\u001b[0m \u001b[0mout\u001b[0m\u001b[1;33m,\u001b[0m \u001b[0mkeepdims\u001b[0m\u001b[1;33m,\u001b[0m \u001b[0minitial\u001b[0m\u001b[1;33m)\u001b[0m\u001b[1;33m\u001b[0m\u001b[1;33m\u001b[0m\u001b[0m\n\u001b[0m\u001b[0;32m     29\u001b[0m \u001b[1;33m\u001b[0m\u001b[0m\n\u001b[0;32m     30\u001b[0m def _amin(a, axis=None, out=None, keepdims=False,\n",
      "\u001b[1;31mAxisError\u001b[0m: axis 1 is out of bounds for array of dimension 1"
     ]
    }
   ],
   "source": [
    "#mathematical operations\n",
    "print (\"Adding 1 to every element:\", arr + 1)\n",
    "print (\"\\nSum of all array elements: \", arr.sum())\n",
    "print (\"\\nArray sum:\\n\", arr + arr) #binary operation\n",
    "\n",
    "# boolean array indexing example\n",
    "cond = arr > 0 # cond is a boolean array\n",
    "temp = arr[cond]\n",
    "print (\"\\nElements greater than 0:\\n\", temp)\n",
    "\n",
    "# maximum element of array\n",
    "print (\"Largest element is:\", arr.max())\n",
    "print (\"Row-wise maximum elements:\",arr.max(axis = 1))\n",
    " \n",
    "# minimum element of array\n",
    "print (\"Column-wise minimum elements:\",arr.min(axis = 0))\n",
    " \n",
    "# cumulative sum along each row\n",
    "print (\"Cumulative sum along each row:\\n\",arr.cumsum(axis = 1))"
   ]
  },
  {
   "cell_type": "code",
   "execution_count": 11,
   "metadata": {},
   "outputs": [
    {
     "name": "stdout",
     "output_type": "stream",
     "text": [
      "Integer Datatype: \n",
      "int32\n",
      "\n",
      "Float Datatype: \n",
      "float64\n",
      "\n",
      "Forcing a Datatype: \n",
      "int64\n"
     ]
    }
   ],
   "source": [
    "#Constructing Datatype\n",
    "x = np.array([1, 2])  \n",
    "print(\"Integer Datatype: \")\n",
    "print(x.dtype)   # guessed by Numpy      \n",
    "x = np.array([1.0, 2.0]) \n",
    "print(\"\\nFloat Datatype: \")\n",
    "print(x.dtype)  # guessed by Numpy\n",
    " \n",
    "# Forced Datatype\n",
    "x = np.array([1, 2], dtype = np.int64)   \n",
    "print(\"\\nForcing a Datatype: \")\n",
    "print(x.dtype)"
   ]
  },
  {
   "cell_type": "code",
   "execution_count": 21,
   "metadata": {},
   "outputs": [
    {
     "name": "stdout",
     "output_type": "stream",
     "text": [
      "('John', [6., 7.])\n",
      "Grades of John are:  [6. 7.]\n",
      "Names are:  ['Sarah' 'John']\n"
     ]
    }
   ],
   "source": [
    "# Python program to demonstrate \n",
    "# the use of data type object\n",
    "# with structured array.\n",
    "import numpy as np\n",
    " \n",
    "dt = np.dtype([('name', np.unicode_, 16),\n",
    "               ('grades', np.float64, (2,))])\n",
    " \n",
    "# x is a structured array with names\n",
    "# and marks of students.\n",
    "# Data type of name of the student is \n",
    "# np.unicode_ and data type of marks is \n",
    "# np.float(64)\n",
    "x = np.array([('Sarah', (8.0, 7.0)),\n",
    "              ('John', (6.0, 7.0))], dtype=dt)\n",
    " \n",
    "print(x[1])\n",
    " \n",
    "print(\"Grades of John are: \", x[1]['grades'])\n",
    "print(\"Names are: \", x['name'])\n"
   ]
  },
  {
   "cell_type": "code",
   "execution_count": 4,
   "metadata": {},
   "outputs": [
    {
     "name": "stdout",
     "output_type": "stream",
     "text": [
      "\n",
      " A sequential array with a negative step: \n",
      " [10  8  6  4  2]\n",
      "\n",
      " Elements at these indices are:\n",
      " [4 8 6]\n",
      "\n",
      " Elements are : \n",
      " [2 4 7]\n"
     ]
    }
   ],
   "source": [
    "#Indexing using numpy\n",
    "import numpy as np\n",
    "#1\n",
    "a=np.arange(10,1,-2)\n",
    "print(\"\\n A sequential array with a negative step: \\n\",a)\n",
    " \n",
    "# Indexes are specified inside the np.array method.\n",
    "newarr = a[np.array([3, 1, 2 ])]\n",
    "print(\"\\n Elements at these indices are:\\n\",newarr)\n",
    "\n",
    "#2\n",
    "x = np.array([1, 2, 3, 4, 5, 6, 7, 8, 9])\n",
    "arr = x[np.array([1, 3, -3])] # Index values can be negative.\n",
    "print(\"\\n Elements are : \\n\",arr)"
   ]
  },
  {
   "cell_type": "code",
   "execution_count": 8,
   "metadata": {},
   "outputs": [
    {
     "name": "stdout",
     "output_type": "stream",
     "text": [
      "\n",
      " Array is:\n",
      "  [ 0  1  2  3  4  5  6  7  8  9 10 11 12 13 14 15 16 17 18 19]\n",
      "\n",
      " a[-8:17:1]  =  [12 13 14 15 16]\n",
      "\n",
      " a[10:]  =  [10 11 12 13 14 15 16 17 18 19]\n"
     ]
    }
   ],
   "source": [
    "#Slicing a slice object is of the form start:stop:step\n",
    "import numpy as np\n",
    " \n",
    "a = np.arange(20) # Arrange elements from 0 to 19\n",
    "print(\"\\n Array is:\\n \",a)\n",
    "\n",
    "print(\"\\n a[-8:17:1]  = \",a[-8:17:1]) # a[start:stop:step]\n",
    " \n",
    "# The : operator means all elements till the end.\n",
    "print(\"\\n a[10:]  = \",a[10:])"
   ]
  },
  {
   "cell_type": "code",
   "execution_count": 62,
   "metadata": {},
   "outputs": [
    {
     "ename": "SyntaxError",
     "evalue": "invalid syntax (<ipython-input-62-3514e312e483>, line 14)",
     "output_type": "error",
     "traceback": [
      "\u001b[1;36m  File \u001b[1;32m\"<ipython-input-62-3514e312e483>\"\u001b[1;36m, line \u001b[1;32m14\u001b[0m\n\u001b[1;33m    print(\"\\n a[0, 3:5]  = \",a[0, 3:5])\u001b[0m\n\u001b[1;37m        ^\u001b[0m\n\u001b[1;31mSyntaxError\u001b[0m\u001b[1;31m:\u001b[0m invalid syntax\n"
     ]
    }
   ],
   "source": [
    "#ERROR\n",
    "#Slicing\n",
    "# A 3-Dimensional array\n",
    "import numpy as np\n",
    "a = np.array([[0, 1, 2, 3, 4, 5]\n",
    "              [6, 7, 8, 9, 10, 11]\n",
    "              [12, 13, 14, 15, 16, 17]\n",
    "              [18, 19, 20, 21, 22, 23]\n",
    "              [24, 25, 26, 27, 28, 29]\n",
    "              [30, 31, 32, 33, 34, 35]]\n",
    "print(\"\\n Array is:\\n \",a)\n",
    " \n",
    "# slicing and indexing\n",
    "print(\"\\n a[0, 3:5]  = \",a[0, 3:5]) \n",
    " \n",
    "print(\"\\n a[4:, 4:]  = \",a[4:, 4:]) \n",
    " \n",
    "print(\"\\n a[:, 2]  = \",a[:, 2]) \n",
    " \n",
    "print(\"\\n a[2:;2, ::2]  = \",a[2:;2, ::2]) "
   ]
  },
  {
   "cell_type": "code",
   "execution_count": 18,
   "metadata": {},
   "outputs": [
    {
     "name": "stdout",
     "output_type": "stream",
     "text": [
      "[1 3 6]\n",
      "[[6 7 8]]\n",
      "[[4 5]\n",
      " [7 8]]\n"
     ]
    }
   ],
   "source": [
    "#Advanced Indexing and slicing\n",
    "#purely integer indexing\n",
    "import numpy as np\n",
    " \n",
    "#Here,Index of elements are (0,0),(1,0),(2,1) and the corresponding\n",
    "#elemensts are selected\n",
    "#1\n",
    "a = np.array([[1 ,2 ],[3 ,4 ],[5 ,6 ]])\n",
    "print(a[[0 ,1 ,2 ],[0 ,0 ,1]])\n",
    "\n",
    "#2\n",
    "b = np.array([[0 ,1 ,2],[3 ,4 ,5 ],\n",
    "              [6 ,7 ,8],[9 ,10 ,11]])\n",
    " \n",
    "print(b[2:3,0:3 ]) #1st slect tuple,2nd slect range from that tuple\n",
    "print(b[1:3 ,[1,2]])"
   ]
  },
  {
   "cell_type": "code",
   "execution_count": 19,
   "metadata": {},
   "outputs": [
    {
     "name": "stdout",
     "output_type": "stream",
     "text": [
      "#1\n",
      "[ 80 100]\n",
      "#2\n",
      "[1600 6400]\n",
      "#3\n",
      "[[ 5  5]\n",
      " [16  4]]\n"
     ]
    }
   ],
   "source": [
    "#Boolean array indexing\n",
    "import numpy as np\n",
    "#1\n",
    "print(\"#1\")\n",
    "a = np.array([10, 40, 80, 50, 100])\n",
    "print(a[a>50]) #to select no greater than 50\n",
    "\n",
    "print(\"#2\")\n",
    "a = np.array([10, 40, 80, 50, 100])\n",
    "print(a[a%40==0]**2) #square multiples of 40\n",
    "\n",
    "print(\"#3\")\n",
    "b = np.array([[5, 5],[4, 5],[16, 4]])\n",
    "sumrow = b.sum(-1)\n",
    "print(b[sumrow%10==0])\n"
   ]
  },
  {
   "cell_type": "code",
   "execution_count": 20,
   "metadata": {},
   "outputs": [
    {
     "name": "stdout",
     "output_type": "stream",
     "text": [
      "Original array is: [ 0  1  2  3  4  5  6  7  8  9 10 11]\n",
      "\n",
      "New array is: [[ 0  1  2  3]\n",
      " [ 4  5  6  7]\n",
      " [ 8  9 10 11]]\n",
      "\n",
      "Modified array in C-style order:\n",
      "0\n",
      "1\n",
      "2\n",
      "3\n",
      "4\n",
      "5\n",
      "6\n",
      "7\n",
      "8\n",
      "9\n",
      "10\n",
      "11\n",
      "\n",
      "Modified array in F-style order:\n",
      "0\n",
      "4\n",
      "8\n",
      "1\n",
      "5\n",
      "9\n",
      "2\n",
      "6\n",
      "10\n",
      "3\n",
      "7\n",
      "11\n"
     ]
    }
   ],
   "source": [
    "#iterating over array\n",
    "#particular order\n",
    "import numpy as geek \n",
    "\n",
    "a = geek.arange(12) \n",
    "print('Original array is:',a) \n",
    "print()  \n",
    "a = a.reshape(3,4) # shape array with 3 rows and 4 columns\n",
    "print('New array is:',a) \n",
    "print()  \n",
    " \n",
    "print('Modified array in C-style order:')\n",
    "for x in geek.nditer(a, order = 'C'): # iterating an array in a given order\n",
    "    print(x)\n",
    "print()\n",
    "\n",
    "print('Modified array in F-style order:')  \n",
    "for x in geek.nditer(a, order = 'F'): \n",
    "    print(x)"
   ]
  },
  {
   "cell_type": "code",
   "execution_count": 22,
   "metadata": {},
   "outputs": [
    {
     "name": "stdout",
     "output_type": "stream",
     "text": [
      "Input  number1 :  10\n",
      "Input  number2 :  11\n",
      "bitwise_and of 10 and 11 :  10\n",
      "Input array1 :  [2, 8, 125]\n",
      "Input array2 :  [3, 3, 115]\n",
      "Output array after bitwise_and:  [  2   0 113]\n"
     ]
    }
   ],
   "source": [
    "#Numpy Binary operations\n",
    "# bitwise_and() function\n",
    "#or, xor same\n",
    "import numpy as np\n",
    "in_num1 = 10\n",
    "in_num2 = 11\n",
    "in_arr1 = [2, 8, 125]\n",
    "in_arr2 = [3, 3, 115]\n",
    "#for num \n",
    "print (\"Input  number1 : \", in_num1)\n",
    "print (\"Input  number2 : \", in_num2)    \n",
    "out_num = np.bitwise_and(in_num1, in_num2) #bitwise and operation\n",
    "print (\"bitwise_and of 10 and 11 : \", out_num)\n",
    "#for array\n",
    "print (\"Input array1 : \", in_arr1) \n",
    "print (\"Input array2 : \", in_arr2)\n",
    "out_arr = geek.bitwise_and(in_arr1, in_arr2) \n",
    "print (\"Output array after bitwise_and: \", out_arr)"
   ]
  },
  {
   "cell_type": "code",
   "execution_count": 24,
   "metadata": {},
   "outputs": [
    {
     "name": "stdout",
     "output_type": "stream",
     "text": [
      "Input array :  [2, 0, 25]\n",
      "Output array after inversion:  [ -3  -1 -26]\n",
      "Output array after left shifting:  [ 16   0 800]\n"
     ]
    }
   ],
   "source": [
    "#Numpy Binary operations\n",
    "#invert() function\n",
    "#numpy.left_shift() #same for right shift\n",
    "import numpy as np\n",
    "#same for num and array\n",
    "\n",
    "in_arr = [2, 0, 25]\n",
    "bit_shift =[3, 4, 5]\n",
    "print (\"Input array : \", in_arr)  \n",
    "out_arr = np.invert(in_arr) #invert function\n",
    "print (\"Output array after inversion: \", out_arr)\n",
    "\n",
    "out_arr = np.left_shift(in_arr, bit_shift) #left shift fuction\n",
    "print (\"Output array after left shifting: \", out_arr) \n"
   ]
  },
  {
   "cell_type": "code",
   "execution_count": 26,
   "metadata": {},
   "outputs": [
    {
     "name": "stdout",
     "output_type": "stream",
     "text": [
      "Input array :  [5, -8]\n",
      "Binary representation of 5\n",
      "Without using width parameter :  101\n",
      "Using width parameter:  00101\n",
      "\n",
      "Binary representation of -8\n",
      "Without using width parameter :  -1000\n",
      "Using width parameter :  11000\n"
     ]
    }
   ],
   "source": [
    "#Numpy Binary operations\n",
    "#binary form of input no, for -ve no if width is not given than\n",
    "#a minus sign is added to front #if width is given than \n",
    "#2's complement of no is returned\n",
    "import numpy as geek\n",
    " \n",
    "in_arr = [5, -8 ]  \n",
    "print (\"Input array : \", in_arr) \n",
    " \n",
    "# binary representation of first array  \n",
    "# element without using width parameter\n",
    "out_num = geek.binary_repr(in_arr[0])\n",
    "print(\"Binary representation of 5\")\n",
    "print (\"Without using width parameter : \", out_num) \n",
    " \n",
    "# binary representation of first array\n",
    "# element using width parameter\n",
    "out_num = geek.binary_repr(in_arr[0], width = 5)\n",
    "print (\"Using width parameter: \", out_num) \n",
    "print(\"\\nBinary representation of -8\")\n",
    " \n",
    "# binary representation of 2nd array\n",
    "# element without using width parameter\n",
    "out_num = geek.binary_repr(in_arr[1])\n",
    "print (\"Without using width parameter : \", out_num) \n",
    " \n",
    "# binary representation of 2nd array\n",
    "# element  using width parameter\n",
    "out_num = geek.binary_repr(in_arr[1], width = 5)\n",
    "print (\"Using width parameter : \", out_num) "
   ]
  },
  {
   "cell_type": "code",
   "execution_count": null,
   "metadata": {},
   "outputs": [],
   "source": [
    "#Pending for doubts\n",
    "#numpy.packbits(myarray, axis=None) \n",
    "#numpy.unpackbits(myarray, axis=None) :"
   ]
  },
  {
   "cell_type": "code",
   "execution_count": 38,
   "metadata": {},
   "outputs": [
    {
     "name": "stdout",
     "output_type": "stream",
     "text": [
      "Input array : \n",
      " [0, 1.5707963267948966, 1.0471975511965976, 3.141592653589793]\n",
      "\n",
      "Sine values : \n",
      " [0.00000000e+00 1.00000000e+00 8.66025404e-01 1.22464680e-16]\n",
      "\n",
      "Cosine values : \n",
      " [ 1.000000e+00  6.123234e-17  5.000000e-01 -1.000000e+00]\n",
      "5.0\n"
     ]
    }
   ],
   "source": [
    "#Trignometric operations\n",
    "\n",
    "#sin() func\n",
    "import numpy as np\n",
    "import math\n",
    " \n",
    "in_array = [0, math.pi / 2, np.pi / 3, np.pi]\n",
    "print (\"Input array : \\n\", in_array) \n",
    "Sin_Values = np.sin(in_array)\n",
    "print (\"\\nSine values : \\n\", Sin_Values)\n",
    "cos_Values = np.cos(in_array)\n",
    "print (\"\\nCosine values : \\n\", cos_Values)\n",
    "\n",
    "#tan()-compute tangent element wise\n",
    "#arcsin()-Inverse sine/cosine/tangent, element wise\n",
    "#arctan2()-Element wise arc tanget of x1/x2\n",
    "#choosing the quadrant correctly\n",
    "#degrees()- Convert angles from radians to degrees\n",
    "#rad2deg()-Convert angles from rwd to deg or vice-versa\n",
    "#radians()-convert angles from degreee to radians\n",
    "#hypot()-Given 'legs'of a right triangle. return its hypotenuse\n",
    "#unwrap()-Unwrap by changing deltas btwn vlues to 2*pi compliment\n",
    "print(np.hypot(3,4))"
   ]
  },
  {
   "cell_type": "code",
   "execution_count": 39,
   "metadata": {},
   "outputs": [
    {
     "name": "stdout",
     "output_type": "stream",
     "text": [
      "Input array : \n",
      " [0, 1.5707963267948966, 1.0471975511965976, 3.141592653589793]\n",
      "\n",
      "cosine Hyperbolic values : \n",
      " [ 1.          2.50917848  1.60028686 11.59195328]\n"
     ]
    }
   ],
   "source": [
    "#Hyperbolic functions\n",
    "\n",
    "import numpy as np\n",
    "import math\n",
    "#cosh()\n",
    "#same for sinh,tanh,arcsinh,arccosh,arctanh\n",
    "\n",
    "in_array = [0, math.pi / 2, np.pi / 3, np.pi]\n",
    "print (\"Input array : \\n\", in_array)\n",
    "cosh_Values = np.cosh(in_array)\n",
    "print (\"\\ncosine Hyperbolic values : \\n\", cosh_Values)\n"
   ]
  },
  {
   "cell_type": "code",
   "execution_count": 46,
   "metadata": {},
   "outputs": [
    {
     "name": "stdout",
     "output_type": "stream",
     "text": [
      "\n",
      "Input array : \n",
      " [0.53, 1.54, 0.71]\n",
      "\n",
      "Rounded values : \n",
      " [1. 2. 1.]\n",
      "\n",
      "Input array : \n",
      " [0.5538, 1.33354, 0.71445]\n",
      "\n",
      "Rounded values : \n",
      " [0.554 1.334 0.714]\n",
      "\n",
      "Input array : \n",
      " [0.53, 1.54, 0.71]\n",
      "\n",
      "Rounded values : \n",
      " [1. 2. 1.]\n",
      "\n",
      "Input array : \n",
      " [0.5538, 1.33354, 0.71445]\n",
      "\n",
      "Rounded values : \n",
      " [0.554 1.334 0.714]\n",
      "5.0\n"
     ]
    }
   ],
   "source": [
    "#function for rounding\n",
    "\n",
    "#1 numpy.around(arr, decimals = 0, out = None) \n",
    "#to evenly round array elements to the given number of decimals\n",
    "in_array = [.53, 1.54, .71]\n",
    "print (\"\\nInput array : \\n\", in_array)\n",
    "round_off_values = np.around(in_array)\n",
    "print (\"\\nRounded values : \\n\", round_off_values)\n",
    " \n",
    "in_array = [.5538, 1.33354, .71445]\n",
    "print (\"\\nInput array : \\n\", in_array)\n",
    "round_off_values = np.around(in_array, decimals = 3)\n",
    "print (\"\\nRounded values : \\n\", round_off_values)\n",
    "\n",
    "#2 numpy.round_(arr, decimals = 0, out = None) \n",
    "#round an array to the given number of decimals.\n",
    "in_array = [.53, 1.54, .71]\n",
    "print (\"\\nInput array : \\n\", in_array)\n",
    "round_off_values = np.round_(in_array)\n",
    "print (\"\\nRounded values : \\n\", round_off_values)\n",
    " \n",
    "in_array = [.5538, 1.33354, .71445]\n",
    "print (\"\\nInput array : \\n\", in_array)\n",
    "round_off_values = np.round_(in_array, decimals = 3)\n",
    "print (\"\\nRounded values : \\n\", round_off_values)\n",
    "\n",
    "#rint()-round to nearest integers towards zero\n",
    "#fix()-round to nearset\n",
    "print(np.fix(5.6))\n",
    "#floor()-return floor of input,elemnt wise\n",
    "#ciel()-return ceiling of input,element wise'\n",
    "#trunc()-return truncated value of input,elemnt wise"
   ]
  },
  {
   "cell_type": "code",
   "execution_count": 49,
   "metadata": {},
   "outputs": [
    {
     "name": "stdout",
     "output_type": "stream",
     "text": [
      "Input array :  [1, 3, 5]\n",
      "Output array :  [  2.71828183  20.08553692 148.4131591 ]\n",
      "\n",
      "\n",
      "Input array :  [1, 3, 5, 256]\n",
      "Output array :  [0.         1.09861229 1.60943791 5.54517744]\n",
      "np.log(4**4) :  5.545177444479562\n",
      "np.log(2**8) :  5.545177444479562\n"
     ]
    }
   ],
   "source": [
    "#Exponenets and logarthimic functions\n",
    "import numpy as np\n",
    "#exponential\n",
    "in_array = [1, 3, 5]\n",
    "print (\"Input array : \", in_array)\n",
    "out_array = np.exp(in_array)\n",
    "print (\"Output array : \", out_array)\n",
    "print(\"\\n\")\n",
    "\n",
    "#Natural logarithm of x \n",
    "in_array = [1, 3, 5, 2**8]\n",
    "\n",
    "print (\"Input array : \", in_array) \n",
    "out_array = np.log(in_array)\n",
    "print (\"Output array : \", out_array)\n",
    "print(\"np.log(4**4) : \", np.log(4**4))\n",
    "print(\"np.log(2**8) : \", np.log(2**8))"
   ]
  },
  {
   "cell_type": "code",
   "execution_count": 55,
   "metadata": {},
   "outputs": [
    {
     "name": "stdout",
     "output_type": "stream",
     "text": [
      "Reciprocal is :  0.5\n",
      "Output array is : \n",
      " [1.         9.         0.5        4.2        3.83333333]\n"
     ]
    }
   ],
   "source": [
    "#Airthmetic Functions\n",
    "#1 Reciprocal\n",
    "in_num=2.0\n",
    "out_num=np.reciprocal(in_num)\n",
    "print(\"Reciprocal is : \",out_num)\n",
    "\n",
    "#2 divide\n",
    "arr1=[2,27,2,21,23]\n",
    "arr2=[2,3,4,5,6]\n",
    "out=np.divide(arr1,arr2)\n",
    "print(\"Output array is : \\n\",out)\n",
    "\n",
    "\n",
    "#add,positive,neagtive,multiply,power,subtract\n",
    "#true_divide,floor_divide,float_power(first elmt raised to power from second array,element wise)\n",
    "#mod,remainder,divmod(quotient&remainder)"
   ]
  },
  {
   "cell_type": "code",
   "execution_count": 59,
   "metadata": {},
   "outputs": [
    {
     "name": "stdout",
     "output_type": "stream",
     "text": [
      "Is real : [False  True] \n",
      "\n",
      "Is Real [ True  True]\n",
      "Output conjugated part is :  (2-4j)\n"
     ]
    }
   ],
   "source": [
    "#Complex number function\n",
    "#1 isreal() test elemst wise,return result as boolean array\n",
    "print(\"Is real :\",np.isreal([1+1j,0j]),\"\\n\")\n",
    "print(\"Is Real\",np.isreal([1,0]))\n",
    "\n",
    "#2 conj() - to conjugate any complex number\n",
    "in_num=2+4j\n",
    "out_num=np.conj(in_num)\n",
    "print(\"Output conjugated part is : \",out_num)"
   ]
  },
  {
   "cell_type": "code",
   "execution_count": 63,
   "metadata": {},
   "outputs": [
    {
     "name": "stdout",
     "output_type": "stream",
     "text": [
      "cbrt values are:  [  1.  30.   4. -10.]\n",
      "\n",
      "Input array :  [1, 2, 3, 4, 5, 6, 7, 8]\n",
      "Output array :  [2 2 3 4 5 6 6 6]\n"
     ]
    }
   ],
   "source": [
    "#Special Functions\n",
    "#1 cbrt() - calculate cube root of x\n",
    "arr1=[1,27000,64,-1000]\n",
    "print(\"cbrt values are: \",np.cbrt(arr1))\n",
    "\n",
    "#2 clip() - used to limit the value in array\n",
    "in_array = [1, 2, 3, 4, 5, 6, 7, 8 ]\n",
    "print (\"\\nInput array : \", in_array) \n",
    "out_array = np.clip(in_array, a_min = 2, a_max = 6)\n",
    "print (\"Output array : \", out_array)"
   ]
  },
  {
   "cell_type": "code",
   "execution_count": null,
   "metadata": {},
   "outputs": [],
   "source": []
  }
 ],
 "metadata": {
  "kernelspec": {
   "display_name": "Python 3",
   "language": "python",
   "name": "python3"
  },
  "language_info": {
   "codemirror_mode": {
    "name": "ipython",
    "version": 3
   },
   "file_extension": ".py",
   "mimetype": "text/x-python",
   "name": "python",
   "nbconvert_exporter": "python",
   "pygments_lexer": "ipython3",
   "version": "3.7.4"
  }
 },
 "nbformat": 4,
 "nbformat_minor": 2
}
