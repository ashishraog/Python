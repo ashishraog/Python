{
 "cells": [
  {
   "cell_type": "code",
   "execution_count": 17,
   "metadata": {},
   "outputs": [
    {
     "name": "stdout",
     "output_type": "stream",
     "text": [
      "Array with rank 1: \n",
      " [1 2 3]\n",
      "Array with rank 2: \n",
      " [[1 2 3]\n",
      " [4 5 6]]\n",
      "Array is of type:  <class 'numpy.ndarray'>\n",
      "No. of dimensions:  2\n",
      "Shape of array:  (2, 3)\n",
      "Size of array:  6\n",
      "Array stores elements of type:  int32\n",
      "\n",
      "An array initialized with all 6s.Array type is complex:\n",
      " [[6.+0.j 6.+0.j 6.+0.j]\n",
      " [6.+0.j 6.+0.j 6.+0.j]\n",
      " [6.+0.j 6.+0.j 6.+0.j]]\n",
      "Array created using tuple: \n",
      " [1 2 3]\n"
     ]
    }
   ],
   "source": [
    "#1 Creation of arrays\n",
    "import numpy as np\n",
    "\n",
    "arr=np.array([1,2,3])\n",
    "print(\"Array with rank 1: \\n\",arr)\n",
    "\n",
    "#n-dimensional array\n",
    "arr=np.array([[1,2,3],\n",
    "              [4,5,6]])\n",
    "print(\"Array with rank 2: \\n\",arr)\n",
    "print(\"Array is of type: \", type(arr))\n",
    "print(\"No. of dimensions: \", arr.ndim)\n",
    "print(\"Shape of array: \", arr.shape)\n",
    "print(\"Size of array: \", arr.size)\n",
    "print(\"Array stores elements of type: \", arr.dtype)\n",
    "\n",
    "#Constant value array of complex type\n",
    "d = np.full((3, 3), 6, dtype = 'complex') #{(m*n), value, datatype}\n",
    "print (\"\\nAn array initialized with all 6s.\"\n",
    "            \"Array type is complex:\\n\", d)\n",
    "\n",
    "#using tuple\n",
    "arr=np.array((1,2,3))\n",
    "print(\"Array created using tuple: \\n\",arr)\n"
   ]
  },
  {
   "cell_type": "code",
   "execution_count": 8,
   "metadata": {},
   "outputs": [
    {
     "name": "stdout",
     "output_type": "stream",
     "text": [
      "Initial Array: \n",
      " [[-1.   2.   0.   4. ]\n",
      " [ 4.  -0.5  6.   0. ]\n",
      " [ 2.6  0.   7.   8. ]\n",
      " [ 3.  -7.   4.   2. ]]\n",
      "Array with first 2 rows and alternate columns(0 and 2): \n",
      " [[-1.  0.]\n",
      " [ 4.  6.]]\n",
      "\n",
      "Elements at indices (1, 3), (1, 2), (0, 1), (3, 0):\n",
      " [6.  0.  2.  2.6]\n"
     ]
    }
   ],
   "source": [
    "arr = np.array([[-1, 2, 0, 4],\n",
    "                [4, -0.5, 6, 0],\n",
    "                [2.6, 0, 7, 8],\n",
    "                [3, -7, 4, 2.0]])\n",
    "print(\"Initial Array: \\n\",arr)\n",
    "sliced_arr=arr[:2, ::2]\n",
    "print(\"Array with first 2 rows and alternate columns(0 and 2): \\n\",sliced_arr)\n",
    "index_arr=arr[[1,1,0,2],\n",
    "             [2,3,1,0]]\n",
    "#doubt on this topic\n",
    "print (\"\\nElements at indices (1, 3), \" \"(1, 2), (0, 1), (3, 0):\\n\", index_arr)"
   ]
  },
  {
   "cell_type": "code",
   "execution_count": 20,
   "metadata": {},
   "outputs": [
    {
     "name": "stdout",
     "output_type": "stream",
     "text": [
      "Adding 1 to every element: [2 3 4]\n",
      "\n",
      "Sum of all array elements:  6\n",
      "\n",
      "Array sum:\n",
      " [2 4 6]\n",
      "\n",
      "Elements greater than 0:\n",
      " [1 2 3]\n",
      "Largest element is: 3\n"
     ]
    },
    {
     "ename": "AxisError",
     "evalue": "axis 1 is out of bounds for array of dimension 1",
     "output_type": "error",
     "traceback": [
      "\u001b[1;31m---------------------------------------------------------------------------\u001b[0m",
      "\u001b[1;31mAxisError\u001b[0m                                 Traceback (most recent call last)",
      "\u001b[1;32m<ipython-input-20-e86f9fb00580>\u001b[0m in \u001b[0;36m<module>\u001b[1;34m\u001b[0m\n\u001b[0;32m     11\u001b[0m \u001b[1;31m# maximum element of array\u001b[0m\u001b[1;33m\u001b[0m\u001b[1;33m\u001b[0m\u001b[1;33m\u001b[0m\u001b[0m\n\u001b[0;32m     12\u001b[0m \u001b[0mprint\u001b[0m \u001b[1;33m(\u001b[0m\u001b[1;34m\"Largest element is:\"\u001b[0m\u001b[1;33m,\u001b[0m \u001b[0marr\u001b[0m\u001b[1;33m.\u001b[0m\u001b[0mmax\u001b[0m\u001b[1;33m(\u001b[0m\u001b[1;33m)\u001b[0m\u001b[1;33m)\u001b[0m\u001b[1;33m\u001b[0m\u001b[1;33m\u001b[0m\u001b[0m\n\u001b[1;32m---> 13\u001b[1;33m \u001b[0mprint\u001b[0m \u001b[1;33m(\u001b[0m\u001b[1;34m\"Row-wise maximum elements:\"\u001b[0m\u001b[1;33m,\u001b[0m\u001b[0marr\u001b[0m\u001b[1;33m.\u001b[0m\u001b[0mmax\u001b[0m\u001b[1;33m(\u001b[0m\u001b[0maxis\u001b[0m \u001b[1;33m=\u001b[0m \u001b[1;36m1\u001b[0m\u001b[1;33m)\u001b[0m\u001b[1;33m)\u001b[0m\u001b[1;33m\u001b[0m\u001b[1;33m\u001b[0m\u001b[0m\n\u001b[0m\u001b[0;32m     14\u001b[0m \u001b[1;33m\u001b[0m\u001b[0m\n\u001b[0;32m     15\u001b[0m \u001b[1;31m# minimum element of array\u001b[0m\u001b[1;33m\u001b[0m\u001b[1;33m\u001b[0m\u001b[1;33m\u001b[0m\u001b[0m\n",
      "\u001b[1;32m~\\AppData\\Local\\Continuum\\anaconda3\\lib\\site-packages\\numpy\\core\\_methods.py\u001b[0m in \u001b[0;36m_amax\u001b[1;34m(a, axis, out, keepdims, initial)\u001b[0m\n\u001b[0;32m     26\u001b[0m def _amax(a, axis=None, out=None, keepdims=False,\n\u001b[0;32m     27\u001b[0m           initial=_NoValue):\n\u001b[1;32m---> 28\u001b[1;33m     \u001b[1;32mreturn\u001b[0m \u001b[0mumr_maximum\u001b[0m\u001b[1;33m(\u001b[0m\u001b[0ma\u001b[0m\u001b[1;33m,\u001b[0m \u001b[0maxis\u001b[0m\u001b[1;33m,\u001b[0m \u001b[1;32mNone\u001b[0m\u001b[1;33m,\u001b[0m \u001b[0mout\u001b[0m\u001b[1;33m,\u001b[0m \u001b[0mkeepdims\u001b[0m\u001b[1;33m,\u001b[0m \u001b[0minitial\u001b[0m\u001b[1;33m)\u001b[0m\u001b[1;33m\u001b[0m\u001b[1;33m\u001b[0m\u001b[0m\n\u001b[0m\u001b[0;32m     29\u001b[0m \u001b[1;33m\u001b[0m\u001b[0m\n\u001b[0;32m     30\u001b[0m def _amin(a, axis=None, out=None, keepdims=False,\n",
      "\u001b[1;31mAxisError\u001b[0m: axis 1 is out of bounds for array of dimension 1"
     ]
    }
   ],
   "source": [
    "#mathematical operations\n",
    "print (\"Adding 1 to every element:\", arr + 1)\n",
    "print (\"\\nSum of all array elements: \", arr.sum())\n",
    "print (\"\\nArray sum:\\n\", arr + arr) #binary operation\n",
    "\n",
    "# boolean array indexing example\n",
    "cond = arr > 0 # cond is a boolean array\n",
    "temp = arr[cond]\n",
    "print (\"\\nElements greater than 0:\\n\", temp)\n",
    "\n",
    "# maximum element of array\n",
    "print (\"Largest element is:\", arr.max())\n",
    "print (\"Row-wise maximum elements:\",arr.max(axis = 1))\n",
    " \n",
    "# minimum element of array\n",
    "print (\"Column-wise minimum elements:\",arr.min(axis = 0))\n",
    " \n",
    "# cumulative sum along each row\n",
    "print (\"Cumulative sum along each row:\\n\",arr.cumsum(axis = 1))"
   ]
  },
  {
   "cell_type": "code",
   "execution_count": 11,
   "metadata": {},
   "outputs": [
    {
     "name": "stdout",
     "output_type": "stream",
     "text": [
      "Integer Datatype: \n",
      "int32\n",
      "\n",
      "Float Datatype: \n",
      "float64\n",
      "\n",
      "Forcing a Datatype: \n",
      "int64\n"
     ]
    }
   ],
   "source": [
    "#Constructing Datatype\n",
    "x = np.array([1, 2])  \n",
    "print(\"Integer Datatype: \")\n",
    "print(x.dtype)   # guessed by Numpy      \n",
    "x = np.array([1.0, 2.0]) \n",
    "print(\"\\nFloat Datatype: \")\n",
    "print(x.dtype)  # guessed by Numpy\n",
    " \n",
    "# Forced Datatype\n",
    "x = np.array([1, 2], dtype = np.int64)   \n",
    "print(\"\\nForcing a Datatype: \")\n",
    "print(x.dtype)"
   ]
  },
  {
   "cell_type": "code",
   "execution_count": 21,
   "metadata": {},
   "outputs": [
    {
     "name": "stdout",
     "output_type": "stream",
     "text": [
      "('John', [6., 7.])\n",
      "Grades of John are:  [6. 7.]\n",
      "Names are:  ['Sarah' 'John']\n"
     ]
    }
   ],
   "source": [
    "# Python program to demonstrate \n",
    "# the use of data type object\n",
    "# with structured array.\n",
    "import numpy as np\n",
    " \n",
    "dt = np.dtype([('name', np.unicode_, 16),\n",
    "               ('grades', np.float64, (2,))])\n",
    " \n",
    "# x is a structured array with names\n",
    "# and marks of students.\n",
    "# Data type of name of the student is \n",
    "# np.unicode_ and data type of marks is \n",
    "# np.float(64)\n",
    "x = np.array([('Sarah', (8.0, 7.0)),\n",
    "              ('John', (6.0, 7.0))], dtype=dt)\n",
    " \n",
    "print(x[1])\n",
    " \n",
    "print(\"Grades of John are: \", x[1]['grades'])\n",
    "print(\"Names are: \", x['name'])\n"
   ]
  },
  {
   "cell_type": "code",
   "execution_count": 4,
   "metadata": {},
   "outputs": [
    {
     "name": "stdout",
     "output_type": "stream",
     "text": [
      "\n",
      " A sequential array with a negative step: \n",
      " [10  8  6  4  2]\n",
      "\n",
      " Elements at these indices are:\n",
      " [4 8 6]\n",
      "\n",
      " Elements are : \n",
      " [2 4 7]\n"
     ]
    }
   ],
   "source": [
    "#Indexing using numpy\n",
    "import numpy as np\n",
    "#1\n",
    "a=np.arange(10,1,-2)\n",
    "print(\"\\n A sequential array with a negative step: \\n\",a)\n",
    " \n",
    "# Indexes are specified inside the np.array method.\n",
    "newarr = a[np.array([3, 1, 2 ])]\n",
    "print(\"\\n Elements at these indices are:\\n\",newarr)\n",
    "\n",
    "#2\n",
    "x = np.array([1, 2, 3, 4, 5, 6, 7, 8, 9])\n",
    "arr = x[np.array([1, 3, -3])] # Index values can be negative.\n",
    "print(\"\\n Elements are : \\n\",arr)"
   ]
  },
  {
   "cell_type": "code",
   "execution_count": 8,
   "metadata": {},
   "outputs": [
    {
     "name": "stdout",
     "output_type": "stream",
     "text": [
      "\n",
      " Array is:\n",
      "  [ 0  1  2  3  4  5  6  7  8  9 10 11 12 13 14 15 16 17 18 19]\n",
      "\n",
      " a[-8:17:1]  =  [12 13 14 15 16]\n",
      "\n",
      " a[10:]  =  [10 11 12 13 14 15 16 17 18 19]\n"
     ]
    }
   ],
   "source": [
    "#Slicing a slice object is of the form start:stop:step\n",
    "import numpy as np\n",
    " \n",
    "a = np.arange(20) # Arrange elements from 0 to 19\n",
    "print(\"\\n Array is:\\n \",a)\n",
    "\n",
    "print(\"\\n a[-8:17:1]  = \",a[-8:17:1]) # a[start:stop:step]\n",
    " \n",
    "# The : operator means all elements till the end.\n",
    "print(\"\\n a[10:]  = \",a[10:])"
   ]
  },
  {
   "cell_type": "code",
   "execution_count": 12,
   "metadata": {},
   "outputs": [
    {
     "ename": "SyntaxError",
     "evalue": "invalid syntax (<ipython-input-12-848ec53599a6>, line 11)",
     "output_type": "error",
     "traceback": [
      "\u001b[1;36m  File \u001b[1;32m\"<ipython-input-12-848ec53599a6>\"\u001b[1;36m, line \u001b[1;32m11\u001b[0m\n\u001b[1;33m    print(\"\\n Array is:\\n \",a)\u001b[0m\n\u001b[1;37m        ^\u001b[0m\n\u001b[1;31mSyntaxError\u001b[0m\u001b[1;31m:\u001b[0m invalid syntax\n"
     ]
    }
   ],
   "source": [
    "#ERROR\n",
    "#Slicing\n",
    "# A 3-Dimensional array\n",
    "import numpy as np\n",
    "a = np.array([[0, 1, 2, 3, 4, 5]\n",
    "              [6, 7, 8, 9, 10, 11]\n",
    "              [12, 13, 14, 15, 16, 17]\n",
    "              [18, 19, 20, 21, 22, 23]\n",
    "              [24, 25, 26, 27, 28, 29]\n",
    "              [30, 31, 32, 33, 34, 35]]\n",
    "print(\"\\n Array is:\\n \",a)\n",
    " \n",
    "# slicing and indexing\n",
    "print(\"\\n a[0, 3:5]  = \",a[0, 3:5]) \n",
    " \n",
    "print(\"\\n a[4:, 4:]  = \",a[4:, 4:]) \n",
    " \n",
    "print(\"\\n a[:, 2]  = \",a[:, 2]) \n",
    " \n",
    "print(\"\\n a[2:;2, ::2]  = \",a[2:;2, ::2]) "
   ]
  },
  {
   "cell_type": "code",
   "execution_count": 18,
   "metadata": {},
   "outputs": [
    {
     "name": "stdout",
     "output_type": "stream",
     "text": [
      "[1 3 6]\n",
      "[[6 7 8]]\n",
      "[[4 5]\n",
      " [7 8]]\n"
     ]
    }
   ],
   "source": [
    "#Advanced Indexing and slicing\n",
    "#purely integer indexing\n",
    "import numpy as np\n",
    " \n",
    "#Here,Index of elements are (0,0),(1,0),(2,1) and the corresponding\n",
    "#elemensts are selected\n",
    "#1\n",
    "a = np.array([[1 ,2 ],[3 ,4 ],[5 ,6 ]])\n",
    "print(a[[0 ,1 ,2 ],[0 ,0 ,1]])\n",
    "\n",
    "#2\n",
    "b = np.array([[0 ,1 ,2],[3 ,4 ,5 ],\n",
    "              [6 ,7 ,8],[9 ,10 ,11]])\n",
    " \n",
    "print(b[2:3,0:3 ]) #1st slect tuple,2nd slect range from that tuple\n",
    "print(b[1:3 ,[1,2]])"
   ]
  },
  {
   "cell_type": "code",
   "execution_count": 19,
   "metadata": {},
   "outputs": [
    {
     "name": "stdout",
     "output_type": "stream",
     "text": [
      "#1\n",
      "[ 80 100]\n",
      "#2\n",
      "[1600 6400]\n",
      "#3\n",
      "[[ 5  5]\n",
      " [16  4]]\n"
     ]
    }
   ],
   "source": [
    "#Boolean array indexing\n",
    "import numpy as np\n",
    "#1\n",
    "print(\"#1\")\n",
    "a = np.array([10, 40, 80, 50, 100])\n",
    "print(a[a>50]) #to select no greater than 50\n",
    "\n",
    "print(\"#2\")\n",
    "a = np.array([10, 40, 80, 50, 100])\n",
    "print(a[a%40==0]**2) #square multiples of 40\n",
    "\n",
    "print(\"#3\")\n",
    "b = np.array([[5, 5],[4, 5],[16, 4]])\n",
    "sumrow = b.sum(-1)\n",
    "print(b[sumrow%10==0])\n"
   ]
  },
  {
   "cell_type": "code",
   "execution_count": 20,
   "metadata": {},
   "outputs": [
    {
     "name": "stdout",
     "output_type": "stream",
     "text": [
      "Original array is: [ 0  1  2  3  4  5  6  7  8  9 10 11]\n",
      "\n",
      "New array is: [[ 0  1  2  3]\n",
      " [ 4  5  6  7]\n",
      " [ 8  9 10 11]]\n",
      "\n",
      "Modified array in C-style order:\n",
      "0\n",
      "1\n",
      "2\n",
      "3\n",
      "4\n",
      "5\n",
      "6\n",
      "7\n",
      "8\n",
      "9\n",
      "10\n",
      "11\n",
      "\n",
      "Modified array in F-style order:\n",
      "0\n",
      "4\n",
      "8\n",
      "1\n",
      "5\n",
      "9\n",
      "2\n",
      "6\n",
      "10\n",
      "3\n",
      "7\n",
      "11\n"
     ]
    }
   ],
   "source": [
    "#iterating over array\n",
    "#particular order\n",
    "import numpy as geek \n",
    "\n",
    "a = geek.arange(12) \n",
    "print('Original array is:',a) \n",
    "print()  \n",
    "a = a.reshape(3,4) # shape array with 3 rows and 4 columns\n",
    "print('New array is:',a) \n",
    "print()  \n",
    " \n",
    "print('Modified array in C-style order:')\n",
    "for x in geek.nditer(a, order = 'C'): # iterating an array in a given order\n",
    "    print(x)\n",
    "print()\n",
    "\n",
    "print('Modified array in F-style order:')  \n",
    "for x in geek.nditer(a, order = 'F'): \n",
    "    print(x)"
   ]
  },
  {
   "cell_type": "code",
   "execution_count": null,
   "metadata": {},
   "outputs": [],
   "source": []
  }
 ],
 "metadata": {
  "kernelspec": {
   "display_name": "Python 3",
   "language": "python",
   "name": "python3"
  },
  "language_info": {
   "codemirror_mode": {
    "name": "ipython",
    "version": 3
   },
   "file_extension": ".py",
   "mimetype": "text/x-python",
   "name": "python",
   "nbconvert_exporter": "python",
   "pygments_lexer": "ipython3",
   "version": "3.7.4"
  }
 },
 "nbformat": 4,
 "nbformat_minor": 2
}
