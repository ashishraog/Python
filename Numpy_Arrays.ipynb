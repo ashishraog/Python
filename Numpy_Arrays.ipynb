{
 "cells": [
  {
   "cell_type": "code",
   "execution_count": 1,
   "metadata": {},
   "outputs": [
    {
     "name": "stdout",
     "output_type": "stream",
     "text": [
      "Array with rank 1: \n",
      " [1 2 3]\n",
      "Array with rank 2: \n",
      " [[1 2 3]\n",
      " [4 5 6]]\n",
      "Array is of type:  <class 'numpy.ndarray'>\n",
      "No. of dimensions:  2\n",
      "Shape of array:  (2, 3)\n",
      "Size of array:  6\n",
      "Array stores elements of type:  int32\n",
      "\n",
      "An array initialized with all 6s.Array type is complex:\n",
      " [[6.+0.j 6.+0.j 6.+0.j]\n",
      " [6.+0.j 6.+0.j 6.+0.j]\n",
      " [6.+0.j 6.+0.j 6.+0.j]]\n",
      "Array created using tuple: \n",
      " [1 2 3]\n"
     ]
    }
   ],
   "source": [
    "#1 Creation of arrays\n",
    "import numpy as np\n",
    "\n",
    "arr=np.array([1,2,3])\n",
    "print(\"Array with rank 1: \\n\",arr)\n",
    "\n",
    "#n-dimensional array\n",
    "arr=np.array([[1,2,3],\n",
    "              [4,5,6]])\n",
    "print(\"Array with rank 2: \\n\",arr)\n",
    "print(\"Array is of type: \", type(arr))\n",
    "print(\"No. of dimensions: \", arr.ndim)\n",
    "print(\"Shape of array: \", arr.shape)\n",
    "print(\"Size of array: \", arr.size)\n",
    "print(\"Array stores elements of type: \", arr.dtype)\n",
    "\n",
    "#Constant value array of complex type\n",
    "d = np.full((3, 3), 6, dtype = 'complex') #{(m*n), value, datatype}\n",
    "print (\"\\nAn array initialized with all 6s.\"\n",
    "            \"Array type is complex:\\n\", d)\n",
    "\n",
    "#using tuple\n",
    "arr=np.array((1,2,3))\n",
    "print(\"Array created using tuple: \\n\",arr)"
   ]
  },
  {
   "cell_type": "code",
   "execution_count": 2,
   "metadata": {},
   "outputs": [
    {
     "name": "stdout",
     "output_type": "stream",
     "text": [
      "Initial Array: \n",
      " [[-1.   2.   0.   4. ]\n",
      " [ 4.  -0.5  6.   0. ]\n",
      " [ 2.6  0.   7.   8. ]\n",
      " [ 3.  -7.   4.   2. ]]\n",
      "Array with first 2 rows and alternate columns(0 and 2): \n",
      " [[-1.  0.]\n",
      " [ 4.  6.]]\n",
      "\n",
      "Elements at indices (1, 3), (1, 2), (0, 1), (3, 0):\n",
      " [6.  0.  2.  2.6]\n"
     ]
    }
   ],
   "source": [
    "arr = np.array([[-1, 2, 0, 4],\n",
    "                [4, -0.5, 6, 0],\n",
    "                [2.6, 0, 7, 8],\n",
    "                [3, -7, 4, 2.0]])\n",
    "print(\"Initial Array: \\n\",arr)\n",
    "sliced_arr=arr[:2, ::2]\n",
    "print(\"Array with first 2 rows and alternate columns(0 and 2): \\n\",sliced_arr)\n",
    "index_arr=arr[[1,1,0,2],\n",
    "             [2,3,1,0]]\n",
    "#doubt on this topic\n",
    "print (\"\\nElements at indices (1, 3), \" \"(1, 2), (0, 1), (3, 0):\\n\", index_arr)"
   ]
  },
  {
   "cell_type": "code",
   "execution_count": 3,
   "metadata": {},
   "outputs": [
    {
     "name": "stdout",
     "output_type": "stream",
     "text": [
      "Adding 1 to every element: [[ 0.   3.   1.   5. ]\n",
      " [ 5.   0.5  7.   1. ]\n",
      " [ 3.6  1.   8.   9. ]\n",
      " [ 4.  -6.   5.   3. ]]\n",
      "\n",
      "Sum of all array elements:  34.1\n",
      "\n",
      "Array sum:\n",
      " [[ -2.    4.    0.    8. ]\n",
      " [  8.   -1.   12.    0. ]\n",
      " [  5.2   0.   14.   16. ]\n",
      " [  6.  -14.    8.    4. ]]\n",
      "\n",
      "Elements greater than 0:\n",
      " [2.  4.  4.  6.  2.6 7.  8.  3.  4.  2. ]\n",
      "Largest element is: 8.0\n",
      "Row-wise maximum elements: [4. 6. 8. 4.]\n",
      "Column-wise minimum elements: [-1. -7.  0.  0.]\n",
      "Cumulative sum along each row:\n",
      " [[-1.   1.   1.   5. ]\n",
      " [ 4.   3.5  9.5  9.5]\n",
      " [ 2.6  2.6  9.6 17.6]\n",
      " [ 3.  -4.   0.   2. ]]\n"
     ]
    }
   ],
   "source": [
    "#mathematical operations\n",
    "print (\"Adding 1 to every element:\", arr + 1)\n",
    "print (\"\\nSum of all array elements: \", arr.sum())\n",
    "print (\"\\nArray sum:\\n\", arr + arr) #binary operation\n",
    "\n",
    "# boolean array indexing example\n",
    "cond = arr > 0 # cond is a boolean array\n",
    "temp = arr[cond]\n",
    "print (\"\\nElements greater than 0:\\n\", temp)\n",
    "\n",
    "# maximum element of array\n",
    "print (\"Largest element is:\", arr.max())\n",
    "print (\"Row-wise maximum elements:\",arr.max(axis = 1))\n",
    " \n",
    "# minimum element of array\n",
    "print (\"Column-wise minimum elements:\",arr.min(axis = 0))\n",
    " \n",
    "# cumulative sum along each row\n",
    "print (\"Cumulative sum along each row:\\n\",arr.cumsum(axis = 1))"
   ]
  },
  {
   "cell_type": "code",
   "execution_count": 4,
   "metadata": {},
   "outputs": [
    {
     "name": "stdout",
     "output_type": "stream",
     "text": [
      "Integer Datatype: \n",
      "int32\n",
      "\n",
      "Float Datatype: \n",
      "float64\n",
      "\n",
      "Forcing a Datatype: \n",
      "int64\n"
     ]
    }
   ],
   "source": [
    "#Constructing Datatype\n",
    "x = np.array([1, 2])  \n",
    "print(\"Integer Datatype: \")\n",
    "print(x.dtype)   # guessed by Numpy      \n",
    "x = np.array([1.0, 2.0]) \n",
    "print(\"\\nFloat Datatype: \")\n",
    "print(x.dtype)  # guessed by Numpy\n",
    " \n",
    "# Forced Datatype\n",
    "x = np.array([1, 2], dtype = np.int64)   \n",
    "print(\"\\nForcing a Datatype: \")\n",
    "print(x.dtype)"
   ]
  },
  {
   "cell_type": "code",
   "execution_count": 5,
   "metadata": {},
   "outputs": [
    {
     "name": "stdout",
     "output_type": "stream",
     "text": [
      "('John', [6., 7.])\n",
      "Grades of John are:  [6. 7.]\n",
      "Names are:  ['Sarah' 'John']\n"
     ]
    }
   ],
   "source": [
    "# Python program to demonstrate \n",
    "# the use of data type object\n",
    "# with structured array.\n",
    "import numpy as np\n",
    " \n",
    "dt = np.dtype([('name', np.unicode_, 16),\n",
    "               ('grades', np.float64, (2,))])\n",
    " \n",
    "# x is a structured array with names\n",
    "# and marks of students.\n",
    "# Data type of name of the student is \n",
    "# np.unicode_ and data type of marks is \n",
    "# np.float(64)\n",
    "x = np.array([('Sarah', (8.0, 7.0)),\n",
    "              ('John', (6.0, 7.0))], dtype=dt)\n",
    " \n",
    "print(x[1])\n",
    " \n",
    "print(\"Grades of John are: \", x[1]['grades'])\n",
    "print(\"Names are: \", x['name'])"
   ]
  },
  {
   "cell_type": "code",
   "execution_count": null,
   "metadata": {},
   "outputs": [],
   "source": []
  }
 ],
 "metadata": {
  "kernelspec": {
   "display_name": "Python 3",
   "language": "python",
   "name": "python3"
  },
  "language_info": {
   "codemirror_mode": {
    "name": "ipython",
    "version": 3
   },
   "file_extension": ".py",
   "mimetype": "text/x-python",
   "name": "python",
   "nbconvert_exporter": "python",
   "pygments_lexer": "ipython3",
   "version": "3.7.4"
  }
 },
 "nbformat": 4,
 "nbformat_minor": 2
}
