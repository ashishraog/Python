{
 "cells": [
  {
   "cell_type": "code",
   "execution_count": 18,
   "metadata": {},
   "outputs": [
    {
     "name": "stdout",
     "output_type": "stream",
     "text": [
      "Total no. of rows: 252\n",
      "Field names are:Date,Open,High,Low,Close,Volume\n",
      "\n",
      "First 5 rows are: \n",
      "\n",
      "\n",
      "\n",
      "\n",
      "\n",
      "\n",
      "\n",
      "\n",
      "\n",
      "\n",
      "\n"
     ]
    }
   ],
   "source": [
    "#CSV (Comma Separated Values) is a simple file format used to store tabular data,\n",
    "import sys\n",
    "import csv\n",
    "filename=\"aapl.csv\"\n",
    "#initialising the titles and rows list\n",
    "fields=[]\n",
    "row=[]\n",
    "\n",
    "#1 reading a csv file\n",
    "with open(filename,'r') as csvfile:\n",
    "    #creating a csv reader object\n",
    "    csvreader=csv.reader(csvfile)\n",
    "    \n",
    "    #extracting fiels names through first row\n",
    "    fields=next(csvreader)\n",
    "    \n",
    "    #extracting each data row one by one\n",
    "    for rows in csvreader:\n",
    "        rows.append(row)\n",
    "        \n",
    "    #get total number of rows\n",
    "    print(\"Total no. of rows: %d\"%(csvreader.line_num))\n",
    "    \n",
    "#printing the field names\n",
    "print('Field names are:' + ','.join(field for field in fields))\n",
    "\n",
    "#printing first 5 rows\n",
    "print('\\nFirst 5 rows are: \\n')\n",
    "for rows in rows[:5]:\n",
    "    #parsing each column of a row\n",
    "    for col in row:\n",
    "        print(\"%10s\"%col),\n",
    "    print('\\n')\n",
    "    "
   ]
  },
  {
   "cell_type": "code",
   "execution_count": 13,
   "metadata": {},
   "outputs": [],
   "source": [
    "#2 writing to a csv file\n",
    "#fields name\n",
    "fields = ['Name', 'Branch', 'Year', 'CGPA'] \n",
    "  \n",
    "# data rows of csv file \n",
    "rows = [ ['Nikhil', 'COE', '2', '9.0'], \n",
    "         ['Sanchit', 'COE', '2', '9.1'], \n",
    "         ['Aditya', 'IT', '2', '9.3'], \n",
    "         ['Sagar', 'SE', '1', '9.5'], \n",
    "         ['Prateek', 'MCE', '3', '7.8'], \n",
    "         ['Sahil', 'EP', '2', '9.1']] \n",
    "\n",
    "#name of a csv file\n",
    "filename=\"university_records.csv\"\n",
    "\n",
    "#writing to csv file\n",
    "with open(filename, 'w') as csvfile:\n",
    "    csvwriter=csv.writer(csvfile)\n",
    "    \n",
    "    #writing the fields\n",
    "    csvwriter.writerow(fields)\n",
    "    \n",
    "    #writing the data rows\n",
    "    csvwriter.writerows(rows)\n",
    "    "
   ]
  },
  {
   "cell_type": "code",
   "execution_count": 20,
   "metadata": {},
   "outputs": [
    {
     "name": "stdout",
     "output_type": "stream",
     "text": [
      "Done\n"
     ]
    }
   ],
   "source": [
    "#3 Writing a dictionary to a csv file\n",
    "mydict =[{'branch': 'COE', 'cgpa': '9.0', 'name': 'Nikhil', 'year': '2'}, \n",
    "         {'branch': 'COE', 'cgpa': '9.1', 'name': 'Sanchit', 'year': '2'}, \n",
    "         {'branch': 'IT', 'cgpa': '9.3', 'name': 'Aditya', 'year': '2'}, \n",
    "         {'branch': 'SE', 'cgpa': '9.5', 'name': 'Sagar', 'year': '1'}, \n",
    "         {'branch': 'MCE', 'cgpa': '7.8', 'name': 'Prateek', 'year': '3'}, \n",
    "         {'branch': 'EP', 'cgpa': '9.1', 'name': 'Sahil', 'year': '2'}] \n",
    "\n",
    "fields=['name','branch','year','cgpa']\n",
    "filename=\"university_records.csv\"\n",
    "\n",
    "with open(filename,'a') as csvfile:\n",
    "    writer=csv.DictWriter(csvfile,fieldnames=fields)\n",
    "    \n",
    "    writer.writeheader()\n",
    "    writer.writerows(mydict)\n",
    "    print(\"Done\")"
   ]
  },
  {
   "cell_type": "code",
   "execution_count": null,
   "metadata": {},
   "outputs": [],
   "source": []
  }
 ],
 "metadata": {
  "kernelspec": {
   "display_name": "Python 3",
   "language": "python",
   "name": "python3"
  },
  "language_info": {
   "codemirror_mode": {
    "name": "ipython",
    "version": 3
   },
   "file_extension": ".py",
   "mimetype": "text/x-python",
   "name": "python",
   "nbconvert_exporter": "python",
   "pygments_lexer": "ipython3",
   "version": "3.7.4"
  }
 },
 "nbformat": 4,
 "nbformat_minor": 2
}
