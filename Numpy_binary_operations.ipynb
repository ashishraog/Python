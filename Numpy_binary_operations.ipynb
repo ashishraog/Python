{
 "cells": [
  {
   "cell_type": "code",
   "execution_count": 2,
   "metadata": {},
   "outputs": [
    {
     "name": "stdout",
     "output_type": "stream",
     "text": [
      "Input  number1 :  10\n",
      "Input  number2 :  11\n",
      "bitwise_and of 10 and 11 :  10\n",
      "Input array1 :  [2, 8, 125]\n",
      "Input array2 :  [3, 3, 115]\n",
      "Output array after bitwise_and:  [  2   0 113]\n"
     ]
    }
   ],
   "source": [
    "#Numpy Binary operations\n",
    "# bitwise_and() function\n",
    "#or, xor same\n",
    "import numpy as np\n",
    "in_num1 = 10\n",
    "in_num2 = 11\n",
    "in_arr1 = [2, 8, 125]\n",
    "in_arr2 = [3, 3, 115]\n",
    "#for num \n",
    "print (\"Input  number1 : \", in_num1)\n",
    "print (\"Input  number2 : \", in_num2)    \n",
    "out_num = np.bitwise_and(in_num1, in_num2) #bitwise and operation\n",
    "print (\"bitwise_and of 10 and 11 : \", out_num)\n",
    "#for array\n",
    "print (\"Input array1 : \", in_arr1) \n",
    "print (\"Input array2 : \", in_arr2)\n",
    "out_arr = np.bitwise_and(in_arr1, in_arr2) \n",
    "print (\"Output array after bitwise_and: \", out_arr)"
   ]
  },
  {
   "cell_type": "code",
   "execution_count": 3,
   "metadata": {},
   "outputs": [
    {
     "name": "stdout",
     "output_type": "stream",
     "text": [
      "Input array :  [2, 0, 25]\n",
      "Output array after inversion:  [ -3  -1 -26]\n",
      "Output array after left shifting:  [ 16   0 800]\n"
     ]
    }
   ],
   "source": [
    "#Numpy Binary operations\n",
    "#invert() function\n",
    "#numpy.left_shift() #same for right shift\n",
    "import numpy as np\n",
    "#same for num and array\n",
    "\n",
    "in_arr = [2, 0, 25]\n",
    "bit_shift =[3, 4, 5]\n",
    "print (\"Input array : \", in_arr)  \n",
    "out_arr = np.invert(in_arr) #invert function\n",
    "print (\"Output array after inversion: \", out_arr)\n",
    "\n",
    "out_arr = np.left_shift(in_arr, bit_shift) #left shift fuction\n",
    "print (\"Output array after left shifting: \", out_arr)"
   ]
  },
  {
   "cell_type": "code",
   "execution_count": 4,
   "metadata": {},
   "outputs": [
    {
     "name": "stdout",
     "output_type": "stream",
     "text": [
      "Input array :  [5, -8]\n",
      "Binary representation of 5\n",
      "Without using width parameter :  101\n",
      "Using width parameter:  00101\n",
      "\n",
      "Binary representation of -8\n",
      "Without using width parameter :  -1000\n",
      "Using width parameter :  11000\n"
     ]
    }
   ],
   "source": [
    "#Numpy Binary operations\n",
    "#binary form of input no, for -ve no if width is not given than\n",
    "#a minus sign is added to front #if width is given than \n",
    "#2's complement of no is returned\n",
    "import numpy as geek\n",
    " \n",
    "in_arr = [5, -8 ]  \n",
    "print (\"Input array : \", in_arr) \n",
    " \n",
    "# binary representation of first array  \n",
    "# element without using width parameter\n",
    "out_num = geek.binary_repr(in_arr[0])\n",
    "print(\"Binary representation of 5\")\n",
    "print (\"Without using width parameter : \", out_num) \n",
    " \n",
    "# binary representation of first array\n",
    "# element using width parameter\n",
    "out_num = geek.binary_repr(in_arr[0], width = 5)\n",
    "print (\"Using width parameter: \", out_num) \n",
    "print(\"\\nBinary representation of -8\")\n",
    " \n",
    "# binary representation of 2nd array\n",
    "# element without using width parameter\n",
    "out_num = geek.binary_repr(in_arr[1])\n",
    "print (\"Without using width parameter : \", out_num) \n",
    " \n",
    "# binary representation of 2nd array\n",
    "# element  using width parameter\n",
    "out_num = geek.binary_repr(in_arr[1], width = 5)\n",
    "print (\"Using width parameter : \", out_num) "
   ]
  },
  {
   "cell_type": "code",
   "execution_count": null,
   "metadata": {},
   "outputs": [],
   "source": []
  }
 ],
 "metadata": {
  "kernelspec": {
   "display_name": "Python 3",
   "language": "python",
   "name": "python3"
  },
  "language_info": {
   "codemirror_mode": {
    "name": "ipython",
    "version": 3
   },
   "file_extension": ".py",
   "mimetype": "text/x-python",
   "name": "python",
   "nbconvert_exporter": "python",
   "pygments_lexer": "ipython3",
   "version": "3.7.4"
  }
 },
 "nbformat": 4,
 "nbformat_minor": 2
}
