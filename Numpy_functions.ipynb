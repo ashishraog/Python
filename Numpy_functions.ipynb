{
 "cells": [
  {
   "cell_type": "code",
   "execution_count": 1,
   "metadata": {},
   "outputs": [
    {
     "name": "stdout",
     "output_type": "stream",
     "text": [
      "Input array : \n",
      " [0, 1.5707963267948966, 1.0471975511965976, 3.141592653589793]\n",
      "\n",
      "Sine values : \n",
      " [0.00000000e+00 1.00000000e+00 8.66025404e-01 1.22464680e-16]\n",
      "\n",
      "Cosine values : \n",
      " [ 1.000000e+00  6.123234e-17  5.000000e-01 -1.000000e+00]\n",
      "5.0\n"
     ]
    }
   ],
   "source": [
    "#Trignometric operations\n",
    "\n",
    "#sin() func\n",
    "import numpy as np\n",
    "import math\n",
    " \n",
    "in_array = [0, math.pi / 2, np.pi / 3, np.pi]\n",
    "print (\"Input array : \\n\", in_array) \n",
    "Sin_Values = np.sin(in_array)\n",
    "print (\"\\nSine values : \\n\", Sin_Values)\n",
    "cos_Values = np.cos(in_array)\n",
    "print (\"\\nCosine values : \\n\", cos_Values)\n",
    "\n",
    "#tan()-compute tangent element wise\n",
    "#arcsin()-Inverse sine/cosine/tangent, element wise\n",
    "#arctan2()-Element wise arc tanget of x1/x2\n",
    "#choosing the quadrant correctly\n",
    "#degrees()- Convert angles from radians to degrees\n",
    "#rad2deg()-Convert angles from rwd to deg or vice-versa\n",
    "#radians()-convert angles from degreee to radians\n",
    "#hypot()-Given 'legs'of a right triangle. return its hypotenuse\n",
    "#unwrap()-Unwrap by changing deltas btwn vlues to 2*pi compliment\n",
    "print(np.hypot(3,4))"
   ]
  },
  {
   "cell_type": "code",
   "execution_count": 2,
   "metadata": {},
   "outputs": [
    {
     "name": "stdout",
     "output_type": "stream",
     "text": [
      "Input array : \n",
      " [0, 1.5707963267948966, 1.0471975511965976, 3.141592653589793]\n",
      "\n",
      "cosine Hyperbolic values : \n",
      " [ 1.          2.50917848  1.60028686 11.59195328]\n"
     ]
    }
   ],
   "source": [
    "#Hyperbolic functions\n",
    "\n",
    "import numpy as np\n",
    "import math\n",
    "#cosh()\n",
    "#same for sinh,tanh,arcsinh,arccosh,arctanh\n",
    "\n",
    "in_array = [0, math.pi / 2, np.pi / 3, np.pi]\n",
    "print (\"Input array : \\n\", in_array)\n",
    "cosh_Values = np.cosh(in_array)\n",
    "print (\"\\ncosine Hyperbolic values : \\n\", cosh_Values)"
   ]
  },
  {
   "cell_type": "code",
   "execution_count": 4,
   "metadata": {},
   "outputs": [
    {
     "name": "stdout",
     "output_type": "stream",
     "text": [
      "\n",
      "Input array : \n",
      " [0.53, 1.54, 0.71]\n",
      "\n",
      "Rounded values : \n",
      " [1. 2. 1.]\n",
      "\n",
      "Input array : \n",
      " [0.5538, 1.33354, 0.71445]\n",
      "\n",
      "Rounded values : \n",
      " [0.554 1.334 0.714]\n",
      "\n",
      "Input array : \n",
      " [0.53, 1.54, 0.71]\n",
      "\n",
      "Rounded values : \n",
      " [1. 2. 1.]\n",
      "\n",
      "Input array : \n",
      " [0.5538, 1.33354, 0.71445]\n",
      "\n",
      "Rounded values : \n",
      " [0.554 1.334 0.714]\n",
      "5.0\n"
     ]
    }
   ],
   "source": [
    "#function for rounding\n",
    "\n",
    "#1 numpy.around(arr, decimals = 0, out = None) \n",
    "#to evenly round array elements to the given number of decimals\n",
    "in_array = [.53, 1.54, .71]\n",
    "print (\"\\nInput array : \\n\", in_array)\n",
    "round_off_values = np.around(in_array)\n",
    "print (\"\\nRounded values : \\n\", round_off_values)\n",
    " \n",
    "in_array = [.5538, 1.33354, .71445]\n",
    "print (\"\\nInput array : \\n\", in_array)\n",
    "round_off_values = np.around(in_array, decimals = 3)\n",
    "print (\"\\nRounded values : \\n\", round_off_values)\n",
    "\n",
    "#2 numpy.round_(arr, decimals = 0, out = None) \n",
    "#round an array to the given number of decimals.\n",
    "in_array = [.53, 1.54, .71]\n",
    "print (\"\\nInput array : \\n\", in_array)\n",
    "round_off_values = np.round_(in_array)\n",
    "print (\"\\nRounded values : \\n\", round_off_values)\n",
    " \n",
    "in_array = [.5538, 1.33354, .71445]\n",
    "print (\"\\nInput array : \\n\", in_array)\n",
    "round_off_values = np.round_(in_array, decimals = 3)\n",
    "print (\"\\nRounded values : \\n\", round_off_values)\n",
    "\n",
    "#rint()-round to nearest integers towards zero\n",
    "#fix()-round to nearset\n",
    "print(np.fix(5.6))\n",
    "#floor()-return floor of input,elemnt wise\n",
    "#ciel()-return ceiling of input,element wise'\n",
    "#trunc()-return truncated value of input,elemnt wise"
   ]
  },
  {
   "cell_type": "code",
   "execution_count": 5,
   "metadata": {},
   "outputs": [
    {
     "name": "stdout",
     "output_type": "stream",
     "text": [
      "Input array :  [1, 3, 5]\n",
      "Output array :  [  2.71828183  20.08553692 148.4131591 ]\n",
      "\n",
      "\n",
      "Input array :  [1, 3, 5, 256]\n",
      "Output array :  [0.         1.09861229 1.60943791 5.54517744]\n",
      "np.log(4**4) :  5.545177444479562\n",
      "np.log(2**8) :  5.545177444479562\n"
     ]
    }
   ],
   "source": [
    "#Exponenets and logarthimic functions\n",
    "import numpy as np\n",
    "#exponential\n",
    "in_array = [1, 3, 5]\n",
    "print (\"Input array : \", in_array)\n",
    "out_array = np.exp(in_array)\n",
    "print (\"Output array : \", out_array)\n",
    "print(\"\\n\")\n",
    "\n",
    "#Natural logarithm of x \n",
    "in_array = [1, 3, 5, 2**8]\n",
    "\n",
    "print (\"Input array : \", in_array) \n",
    "out_array = np.log(in_array)\n",
    "print (\"Output array : \", out_array)\n",
    "print(\"np.log(4**4) : \", np.log(4**4))\n",
    "print(\"np.log(2**8) : \", np.log(2**8))"
   ]
  },
  {
   "cell_type": "code",
   "execution_count": 6,
   "metadata": {},
   "outputs": [
    {
     "name": "stdout",
     "output_type": "stream",
     "text": [
      "Reciprocal is :  0.5\n",
      "Output array is : \n",
      " [1.         9.         0.5        4.2        3.83333333]\n"
     ]
    }
   ],
   "source": [
    "#Airthmetic Functions\n",
    "#1 Reciprocal\n",
    "in_num=2.0\n",
    "out_num=np.reciprocal(in_num)\n",
    "print(\"Reciprocal is : \",out_num)\n",
    "\n",
    "#2 divide\n",
    "arr1=[2,27,2,21,23]\n",
    "arr2=[2,3,4,5,6]\n",
    "out=np.divide(arr1,arr2)\n",
    "print(\"Output array is : \\n\",out)\n",
    "\n",
    "\n",
    "#add,positive,neagtive,multiply,power,subtract\n",
    "#true_divide,floor_divide,float_power(first elmt raised to power from second array,element wise)\n",
    "#mod,remainder,divmod(quotient&remainder)"
   ]
  },
  {
   "cell_type": "code",
   "execution_count": 7,
   "metadata": {},
   "outputs": [
    {
     "name": "stdout",
     "output_type": "stream",
     "text": [
      "Is real : [False  True] \n",
      "\n",
      "Is Real [ True  True]\n",
      "Output conjugated part is :  (2-4j)\n"
     ]
    }
   ],
   "source": [
    "#Complex number function\n",
    "#1 isreal() test elemst wise,return result as boolean array\n",
    "print(\"Is real :\",np.isreal([1+1j,0j]),\"\\n\")\n",
    "print(\"Is Real\",np.isreal([1,0]))\n",
    "\n",
    "#2 conj() - to conjugate any complex number\n",
    "in_num=2+4j\n",
    "out_num=np.conj(in_num)\n",
    "print(\"Output conjugated part is : \",out_num)"
   ]
  },
  {
   "cell_type": "code",
   "execution_count": 8,
   "metadata": {},
   "outputs": [
    {
     "name": "stdout",
     "output_type": "stream",
     "text": [
      "cbrt values are:  [  1.  30.   4. -10.]\n",
      "\n",
      "Input array :  [1, 2, 3, 4, 5, 6, 7, 8]\n",
      "Output array :  [2 2 3 4 5 6 6 6]\n"
     ]
    }
   ],
   "source": [
    "#Special Functions\n",
    "#1 cbrt() - calculate cube root of x\n",
    "arr1=[1,27000,64,-1000]\n",
    "print(\"cbrt values are: \",np.cbrt(arr1))\n",
    "\n",
    "#2 clip() - used to limit the value in array\n",
    "in_array = [1, 2, 3, 4, 5, 6, 7, 8 ]\n",
    "print (\"\\nInput array : \", in_array) \n",
    "out_array = np.clip(in_array, a_min = 2, a_max = 6)\n",
    "print (\"Output array : \", out_array)"
   ]
  },
  {
   "cell_type": "code",
   "execution_count": null,
   "metadata": {},
   "outputs": [],
   "source": []
  }
 ],
 "metadata": {
  "kernelspec": {
   "display_name": "Python 3",
   "language": "python",
   "name": "python3"
  },
  "language_info": {
   "codemirror_mode": {
    "name": "ipython",
    "version": 3
   },
   "file_extension": ".py",
   "mimetype": "text/x-python",
   "name": "python",
   "nbconvert_exporter": "python",
   "pygments_lexer": "ipython3",
   "version": "3.7.4"
  }
 },
 "nbformat": 4,
 "nbformat_minor": 2
}
